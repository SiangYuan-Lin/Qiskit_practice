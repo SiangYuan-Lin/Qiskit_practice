{
 "cells": [
  {
   "cell_type": "code",
   "execution_count": 1,
   "id": "84b66f30-3089-4e5b-822d-b7e20e3bb0a8",
   "metadata": {},
   "outputs": [],
   "source": [
    "import matplotlib as mpl\n",
    "from matplotlib import pyplot as plt\n",
    "import numpy as np\n",
    "import scipy as sp"
   ]
  },
  {
   "cell_type": "markdown",
   "id": "dafe2c8b-326f-44ce-84f6-f9a3ce09b252",
   "metadata": {},
   "source": [
    "# Introduction to `qiskit_algorithms` \n",
    "Examples of algorithms: \n",
    "* `Minimum Eigensolvers` is used to find the smallest eigenvalue of an operator. For example, the minimum eigenvalue of the Hamiltonian operator is the ground state energy.\n",
    "* `Time Evolvers` as the name suggests, is for the time evolution of a quantum system\n",
    "* `Amplitude estimators` which I assume is used to estimate the probability for a quantum system to be in a certain state."
   ]
  },
  {
   "cell_type": "markdown",
   "id": "48b9f4db-2891-4ce4-be29-e1e6208769cb",
   "metadata": {},
   "source": [
    "## The Variational Quantum Eigensolver (VQE)\n",
    "Given a Hilbert Space and a Hamiltonian $H$ over it. \n",
    "We consider the eigenbasis $\\{\\ket{\\psi_\\lambda}\\}$ where $\\langle\\psi_{\\lambda_1}\\vert\\psi_{\\lambda_2}\\rangle = \\delta_{\\lambda_1 \\lambda_2}$  \n",
    "The eigenvectors satisfy the eigenvalue equation\n",
    "$$\n",
    "H\\ket{\\psi_\\lambda} = E_\\lambda \\ket{\\psi_\\lambda}\n",
    "$$\n",
    "Suppose one wants to calculate the ground state energy $E_\\text{gs}$, the **variational principle** will give an *upper bound* for $E_\\text{gs}$ i.e. $E_\\text{gs} \\leq \\bra{\\phi}H\\ket{\\phi}\\equiv \\langle H \\rangle$  \n",
    "Here $\\ket{\\phi}$ is an arbitrary **normalized** quantum state, it is evidently true when $\\ket{\\phi}$ is one of the eigenstates of $H$.  \n",
    "**Proof**\n",
    "$$\n",
    "\\begin{gather*}\n",
    "\\ket{\\phi} = \\sum_\\lambda C_\\lambda \\ket{\\phi_\\lambda} \\\\\n",
    "\\sum_i \\left(C_i^* \\bra{\\psi_i} \\sum_j C_j \\ket{\\psi_j}\\right)\n",
    "=\\sum_i\\sum_j C_i^* C_j \\langle{\\psi_i}\\vert{\\psi_j}\\rangle\n",
    "= \\sum_i\\sum_j C_i^*C_j \\delta_{ij} = \\sum_\\lambda |C_\\lambda|^2\n",
    "=\\mathrm{I} \\\\\n",
    "\\braket{H} = \\sum_i \\left( C_i^* \\bra{\\psi_i} H \\sum_j C_j \\ket{\\phi_j}\\right)\n",
    "=\\sum_i \\sum_j C_i^* C_j E_j \\braket{\\psi_i\\vert\\psi_j}\n",
    "=\\sum_i E_i|C_i|^2\n",
    "\\end{gather*}\n",
    "$$\n",
    "By definition, the ground state energy $E_\\text{gs}$ is the smallest eigenvalue of $H$\n",
    ", thus $\\braket{H} \\geq E_\\text{gs}\\sum_i |C_i|^2 = E_\\text{gs}$ is satisfied. \n",
    "\n",
    "Based on the variational principle, the VQE tests parametrized trial wave functions, and attempts to find the minimum value using optimization methods."
   ]
  },
  {
   "cell_type": "code",
   "execution_count": 5,
   "id": "ca1762dc-b67e-444d-87a8-cfbf439fc3ee",
   "metadata": {},
   "outputs": [
    {
     "data": {
      "image/png": "[encoded data removed]",
      "text/plain": [
       "<Figure size 705.35x200.667 with 1 Axes>"
      ]
     },
     "execution_count": 5,
     "metadata": {},
     "output_type": "execute_result"
    }
   ],
   "source": [
    "from qiskit import *\n",
    "from qiskit_algorithms.optimizers import SLSQP\n",
    "from qiskit.circuit.library import TwoLocal\n",
    "\n",
    "num_qubits = 2\n",
    "ansatz = TwoLocal(num_qubits, \"ry\", \"cz\")\n",
    "optimizer = SLSQP(maxiter=1000) \n",
    "ansatz.decompose().draw(\"mpl\", style=\"iqx\")"
   ]
  },
  {
   "cell_type": "markdown",
   "id": "fc29d130-682e-4da0-a85b-cbb96a2066b0",
   "metadata": {},
   "source": [
    "### `TwoLocal` circuit\n",
    "> [IBM Quantum Documentation](https://docs.quantum.ibm.com/api/qiskit/qiskit.circuit.library.TwoLocal)  \n",
    " \n",
    "The two-local circuit is a parametrized circuit consisting of alternating rotation layers and entanglement layers.\n",
    "The rotation layers are single qubit gates applied on all qubits.\n",
    "The entanglement layers uses two-qubit gates to entangle the qubits according to a strategy set using `entanglement`\n",
    "In the example a rotation about the $y$ axis is performed, and a controlled z-gate is used to entangle the qubit pair.\n",
    "* Controlled Z gate (`cz`):\n",
    "$$\n",
    "\\begin{align*}\n",
    "CZ q_0q_1 &= \\mathrm{I}\\otimes\\ket{0}\\bra{0} + \\sigma_z \\ket{1}\\bra{1}\\\\\n",
    "&= \n",
    "\\begin{pmatrix}\n",
    "1 & 0 \\\\\n",
    "0 & 1\n",
    "\\end{pmatrix}\n",
    "\\otimes\n",
    "\\begin{pmatrix}\n",
    "1\\\\0\n",
    "\\end{pmatrix}\n",
    "\\begin{pmatrix}\n",
    "1 & 0\n",
    "\\end{pmatrix}\n",
    "+\n",
    "\\begin{pmatrix}\n",
    "1 & 0 \\\\\n",
    "0 & -1\n",
    "\\end{pmatrix}\n",
    "\\otimes\n",
    "\\begin{pmatrix}\n",
    "0\\\\1\n",
    "\\end{pmatrix}\n",
    "\\begin{pmatrix}\n",
    "0 & 1\n",
    "\\end{pmatrix}\n",
    "=\n",
    "\\begin{pmatrix}\n",
    "1 & 0 & 0 & 0 \\\\\n",
    "0 & 1 & 0 & 0 \\\\\n",
    "0 & 0 & 1 & 0 \\\\\n",
    "0 & 0 & 0 &-1\n",
    "\\end{pmatrix}\n",
    "\\end{align*}\n",
    "$$\n",
    "As shown in the circuit diagram, the pair of qubits are undergo $y$ rotations followed by `cz` entanglement operation.\n",
    "The default parameter for `reps` is 3, and `skip_final_rotation_layer` is `false` if unspecified.\n",
    "This circuit consists of a total of 9 $y$ rotation gates, each angle is a parameter subject to optimization in the `SLSQP` algorithm. "
   ]
  },
  {
   "cell_type": "markdown",
   "id": "8ad58ae7-8618-4b11-a57e-140600de188c",
   "metadata": {},
   "source": [
    "### Sequential Least Squares Quadratic Programming (SLSQP)\n",
    "> [[Kraft, 1998]](http://degenerateconic.com/uploads/2018/03/DFVLR_FB_88_28.pdf)  \n",
    "    A software package for sequential quadratic programming.  \n",
    "    Tech. Rep. DFVLR-FB 88-28, DLR German Aerospace Center —  \n",
    "    Institute for Flight Mechanics, Koln, Germany. \n",
    "\n",
    "An iterative method for constrained nonlinear optimization.\n",
    "SQP methods solvea sequence of optimization subproblems,\n",
    "each of which optimizes a quadratic model of the objecive subject to a linearization of constraints.\n",
    "* The problem: $\\min_x f(x)$\n",
    "* Subject to constraints\n",
    "    * $h(x) \\geq 0$\n",
    "    * $g(x) = 0$\n",
    "* The *Lagrangian* for this problem: $\\mathcal{L}(x,\\lambda,\\sigma) = f(x) - \\lambda h(x) - \\sigma g(x)$ ($\\lambda,\\sigma$ are Lagrange multipliers)  \n",
    "    * The idea of Lagrange multipliers: $\\nabla f$ is the direction of which the value of $f$ changes.\n",
    "$\\nabla g$ is the direction of which the value of the constraint changes. Since $g(\\mathbf{x})=0$ must be satisfied, this direction is *forbidden*.\n",
    "The condition $\\nabla\\mathcal{L} = \\nabla(f - \\lambda g) = 0$ is satisified at the stationary point. This statement suggests $\\nabla_x f - \\nabla_x g = 0$ and $\\nabla_\\lambda \\mathcal{L} = 0 \\rightarrow g = 0$\n",
    "Equivalently $\\nabla f = \\nabla g$, there exists no direction that can both satisify $g$ and change the value of $f$, thus a stationary point.\n",
    "* Target: To find a stationary point of $f(x)$ by method of Lagrange multipliers $\\nabla \\mathcal{L}=0$\n",
    "The algorithm: ($\\nabla^2_{xx}$ denotes the Hessian matrix):\n",
    "$$\n",
    "\\begin{bmatrix}\n",
    "x_{k+1} \\\\\n",
    "\\lambda_{k+1} \\\\\n",
    "\\sigma_{k+1}\n",
    "\\end{bmatrix}\n",
    "= \n",
    "\\begin{bmatrix}\n",
    "x_{k} \\\\\n",
    "\\lambda_{k} \\\\\n",
    "\\sigma_{k}\n",
    "\\end{bmatrix}\n",
    "-\n",
    "\\underbrace{\n",
    "\\begin{bmatrix}\n",
    "\\nabla_{xx}^2 \\mathcal{L} & \\nabla h & \\nabla h \\\\\n",
    "\\nabla h^T & 0 & 0 \\\\\n",
    "\\nabla g^T & 0 & 0\n",
    "\\end{bmatrix}^{-1}}_{\\nabla^2 \\mathcal{L}} \\:\n",
    "\\underbrace{\n",
    "\\begin{bmatrix}\n",
    "\\nabla f + \\lambda_k \\nabla h + \\sigma_k \\nabla g \\\\\n",
    "h \\\\\n",
    "g \\\\\n",
    "\\end{bmatrix}}_{\\nabla \\mathcal{L}}\n",
    "$$\n",
    "The meaning of this equation is essentially $\\mathcal{L}_{k+1} - \\mathcal{L}_k = -\\nabla\\mathcal{L}/\\nabla^2\\mathcal{L}$, which resembles *Newton's method* for optimization.\n",
    "Since $\\nabla^2 \\mathcal{L}$ is in general non-invertable, the algorithm solves for a suitable *Newton step*\n",
    "$d_k = (\\nabla^2_{xx}\\mathcal{L})^{-1}\\nabla\\mathcal{L}$, which is the solution to the *quadratic programming subproblem*\n",
    "$$\\begin{align*}\n",
    "\\min_d & f(x_k) + \\nabla f(x_k)^T d + \\frac12 d^T \\nabla^2_{xx}\\mathcal{L}(x_k,\\lambda_k,\\sigma_k)d \\\\\n",
    "\\text{such that } & h(x_k) + \\nabla h(x_k)^T d \\geq 0 \\\\\n",
    "& g(x_k) + \\nabla g(x_k)^T d = 0\n",
    "\\end{align*}\n",
    "$$\n",
    "At each iteration $d_k$ is solved, and the value is updated $[x_{k+1},\\lambda_{k+1},\\sigma_{k+1}]^T = [x_k, \\lambda_k , \\sigma_k]^T + d_k$."
   ]
  },
  {
   "cell_type": "markdown",
   "id": "309e1cca-ba7f-4fdf-81b2-2887e24305f8",
   "metadata": {},
   "source": [
    "## Executing the algorithm"
   ]
  },
  {
   "cell_type": "code",
   "execution_count": 6,
   "id": "7fa1dfa9-4de3-41fe-9101-36cf4a7ecb1f",
   "metadata": {},
   "outputs": [],
   "source": [
    "from qiskit.primitives import Estimator\n",
    "from qiskit_algorithms import VQE\n",
    "from qiskit.quantum_info import SparsePauliOp\n",
    "estimator = Estimator()\n",
    "vqe = VQE(estimator, ansatz, optimizer)\n",
    "H2_op = SparsePauliOp.from_list([\n",
    "    (\"II\", -1.052373245772859),\n",
    "    (\"IZ\", 0.39793742484318045),\n",
    "    (\"ZI\", -0.39793742484318045),\n",
    "    (\"ZZ\", -0.01128010425623538),\n",
    "    (\"XX\", 0.18093119978423156)\n",
    "])"
   ]
  },
  {
   "cell_type": "markdown",
   "id": "ab7b43cd-3e07-44f9-afdf-671f88b3ba6b",
   "metadata": {},
   "source": [
    "The `ansatz` TwoLocal circuit is the trial quantum state with 7 $\\theta_i$ parameters for $R_{y}^{(i)}(\\theta_i)$.   \n",
    "The objective is to find the ground state of some given Hamiltonian via VQE numerical method.  \n",
    "The current setup of the VQE algorithm is to implement the `SLSQP` classical optimizer.  \n",
    "To test the VQE, the following demonstration aims to solve for the ground state energy of the electron pair in a hydrogen molecule."
   ]
  },
  {
   "cell_type": "markdown",
   "id": "eed2b080-e173-40ff-a687-a2923081348f",
   "metadata": {},
   "source": [
    "### Hamiltonian of a Hydrogen molecule\n",
    "`SparsePauliOp` is a sparse N-qubit operator constructed by Pauli matrices\n",
    "In this example, we have two qubits, and the sparse operator is a linear combination of 5 bipartite operations:\n",
    "1. `II` $ = \\mathrm{I} \\otimes \\mathrm{I}$\n",
    "2. `IZ` $ = \\mathrm{I} \\otimes \\sigma_z  $\n",
    "3. `ZI` $ = \\sigma_z   \\otimes \\mathrm{I}$\n",
    "4. `ZZ` $ = \\sigma_z   \\otimes \\sigma_z  $\n",
    "5. `XX` $ = \\sigma_x   \\otimes \\sigma_x  $\n"
   ]
  },
  {
   "cell_type": "markdown",
   "id": "2cf86d24-5c67-41a6-a618-376acf6e3c19",
   "metadata": {},
   "source": [
    ">[[James, 2010]](https://arxiv.org/abs/1001.3855) Simulation of Electronic Structure Hamiltonians Using Quantum Computers\n",
    "\n",
    "$$\n",
    "H \\equiv \\sum h_i \\:\\underset{\\text{Decomposition}}{\\overset{\\text{Trotter}}{\\longrightarrow}}\n",
    "\\: \\underbrace{U \\sim \\left[\\prod \\exp(-i h_i \\Delta t)\\right]^{(t/\\Delta t)}}_\\text{Jordan-Wigner Transform}\n",
    "\\overset{\\ket{\\psi_0}}{\\longrightarrow} \\lambda = \\exp(-iE_0 t) = \\exp[2\\pi i(\\phi+k)]\n",
    "$$"
   ]
  },
  {
   "cell_type": "code",
   "execution_count": 11,
   "id": "22f58cca-2b75-4f39-b98b-76af1236656e",
   "metadata": {},
   "outputs": [
    {
     "name": "stdout",
     "output_type": "stream",
     "text": [
      "{   'aux_operators_evaluated': None,\n",
      "    'cost_function_evals': 46,\n",
      "    'eigenvalue': -1.8572749366291517,\n",
      "    'optimal_circuit': <qiskit.circuit.library.n_local.two_local.TwoLocal object at 0x7fced6c78c10>,\n",
      "    'optimal_parameters': {   ParameterVectorElement(θ[7]): -2.2528651448536543,\n",
      "                              ParameterVectorElement(θ[4]): 4.471596025681021,\n",
      "                              ParameterVectorElement(θ[2]): -2.309705768850701,\n",
      "                              ParameterVectorElement(θ[5]): 3.4849179753362245,\n",
      "                              ParameterVectorElement(θ[3]): 0.6628177981137592,\n",
      "                              ParameterVectorElement(θ[1]): 5.447224260950898,\n",
      "                              ParameterVectorElement(θ[0]): 0.810922992606271,\n",
      "                              ParameterVectorElement(θ[6]): -0.2780146454540847},\n",
      "    'optimal_point': array([ 0.81092299,  5.44722426, -2.30970577,  0.6628178 ,  4.47159603,\n",
      "        3.48491798, -0.27801465, -2.25286514]),\n",
      "    'optimal_value': -1.8572749366291517,\n",
      "    'optimizer_evals': None,\n",
      "    'optimizer_result': <qiskit_algorithms.optimizers.optimizer.OptimizerResult object at 0x7fced6a2f760>,\n",
      "    'optimizer_time': 0.06886672973632812}\n"
     ]
    }
   ],
   "source": [
    "result = vqe.compute_minimum_eigenvalue(H2_op)\n",
    "print(result)"
   ]
  },
  {
   "cell_type": "code",
   "execution_count": null,
   "id": "5ced9ea5-dc05-47ac-83fb-508cd8539a30",
   "metadata": {},
   "outputs": [],
   "source": []
  }
 ],
 "metadata": {
  "kernelspec": {
   "display_name": "Python 3 (ipykernel)",
   "language": "python",
   "name": "python3"
  },
  "language_info": {
   "codemirror_mode": {
    "name": "ipython",
    "version": 3
   },
   "file_extension": ".py",
   "mimetype": "text/x-python",
   "name": "python",
   "nbconvert_exporter": "python",
   "pygments_lexer": "ipython3",
   "version": "3.10.13"
  }
 },
 "nbformat": 4,
 "nbformat_minor": 5
}
