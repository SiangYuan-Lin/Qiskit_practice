{
 "cells": [
  {
   "cell_type": "markdown",
   "id": "21b33694-1e32-42f6-9475-e86bfcf7ee48",
   "metadata": {},
   "source": [
    "# The Deutsch-Jozsa algorithm"
   ]
  },
  {
   "cell_type": "markdown",
   "id": "2e6daa9c-433b-4195-ba03-b2542766e5e5",
   "metadata": {},
   "source": [
    "[Ref 1: Deutsch-Joza algorithm](https://en.wikipedia.org/wiki/Deutsch%E2%80%93Jozsa_algorithm)\n",
    "\n",
    "[Ref 2: IBM Quantum Learning](https://learning.quantum.ibm.com/course/fundamentals-of-quantum-algorithms/quantum-query-algorithms#the-deutsch-jozsa-algorithm)\n",
    "\n",
    "## Introduction\n",
    "\n",
    "The Deutsch-Jozsa algorithm is a deterministic algorithm proposed by David Deutsch and Richard Jozsa in 1992.\n",
    "The main purpose of this algorithm is to demonstrate a type of problem that is exponentially faster when using quantum algorithms compared to classical methods.\n",
    "\n",
    "## Problem statement\n",
    "\n",
    "Given a black box quantum computer, termed an *oracle*  \n",
    "This black box takes n-bit binary values and produces a single binary output.\n",
    "$$\n",
    "f:\\{0,1\\}^n \\to \\{0,1\\}\n",
    "$$\n",
    "\n",
    "We assert that the function is either *constant* (all zero) or *balanced* (half of the inputs are 1)\n",
    "The task is to determine whether the n-bit boolean function is balanced or constant.\n",
    "\n",
    "## Solution\n",
    "* Classical deterministic algorithm: In the worst-case scenario, the classical algorithm would have to evaluate $2^{n-1} + 1$ just over half of the set of inputs to prove that $f$ is constant.\n",
    "* The implementation of the Deutsch-Jozsa algorithm on an ideal quantum circuit would only require a single evaulation.\n",
    "\n",
    "## The Algorithm\n",
    "\n",
    "1. Begin with the $n+1$ bit state $\\ket{0}^{\\otimes n }\\ket{1}$\n",
    "2. Apply Hadamard transformation to the $n+1$ bit state to obtain $\\ket{+}^{\\otimes n }\\ket{-}$ or equivalently:\n",
    "$$\n",
    "\\frac{1}{\\sqrt{2^{n+1}}}\\sum_{i=1}^{n}\\ket{x_i}(\\ket{0} - \\ket{1})\\quad x_i \\in \\{0,1\\}\n",
    "$$\n",
    "3. The quantum oracle (function $f$) maps its input state $\\ket{x}\\ket{y}$ to $\\ket{x}\\ket{y\\oplus f(x)}$ where $\\oplus$ denotes addition modulo 2 (XOR).\n",
    "This gives us:\n",
    "$$\n",
    "\\frac{1}{\\sqrt{2^{n+1}}}\\sum_{i=1}^{n}\\ket{x_i}(\\ket{0 \\oplus f(x_i)} - \\ket{1 \\oplus f(x_i)})\n",
    "$$\n",
    "Here we can see that when $f(x_i)$ takes the value of $1$ or $0$, we get a phase factor of $-1$ or $1$ respectively.\n",
    "This allows the expression\n",
    "$$\n",
    "\\frac{1}{2^{n+1}}\\sum_{i=1}^{n}(-1)^{f(x_i)}\\ket{x_i}(\\ket{0} - \\ket{1})\n",
    "$$\n",
    "Dropping the last $\\ket{-}$\n",
    "$$\n",
    "\\frac{1}{2^{n}}\\sum_{i=1}^{n}(-1)^{f(x_i)}\\ket{x_i}\n",
    "$$\n",
    "5. Apply a Hadamard transformation again:\n",
    "\n",
    "$$\n",
    "\\begin{align*}\n",
    "H^{\\otimes n}\\ket{\\mathbf{x}} &= H\\ket{x_1}\\otimes H\\ket{x_2}\\otimes\\dots\\otimes H\\ket{x_{n}} \\\\\n",
    "&= \\frac{1}{2^{n}}\\sum_{z_1 \\in \\{0,1\\}} (-1)^{x_1 z_1}\\ket{z_1}\n",
    "\\otimes \\sum_{z_2 \\in \\{0,1\\}} (-1)^{x_2 z_2}\\ket{z_2} \\otimes \\dots \n",
    "\\otimes \\sum_{z_n \\in \\{0,1\\}} (-1)^{x_n z_n}\\ket{z_n}   \\\\\n",
    "&= \\frac{1}{2^n}\\sum_{i=1}^n (-1)^{\\mathbf{x}\\cdot{\\mathbf{z}}}\\ket{z_i}\n",
    "\\end{align*}\n",
    "$$\n",
    "Here the dot product is defined as $x_1z_1\\oplus x_2z_2 \\oplus\\dots\\oplus x_nz_n$\n",
    "\n",
    "5. Taking the sum over the first register \n",
    "$$  \n",
    "\\begin{align*}\n",
    "\\frac{1}{2^n}&\\sum_{i=1}^n(-1)^{f(x_i)}\n",
    "\\left[ \\frac{1}{\\sqrt{2}}\\sum_{j=1}^n(-1)^{x_i y_j} \\ket{y_j}\\right] \\\\\n",
    "=&\\sum_{j=1}^n \n",
    "\\left[\n",
    "\\frac{1}{2^n}\\sum_{i=1}^n(-1)^{f(x_i)}(-1)^{x_i y_j}\n",
    "\\right] \\ket{y_j}\n",
    "\\end{align*}\n",
    "$$\n",
    "6. From this, we can see that the expectation value of the measurement is 1 when complete and 0 when balanced.\n",
    "Analogous to constructive and destructive inteference."
   ]
  },
  {
   "cell_type": "code",
   "execution_count": null,
   "id": "d08ddccd-90a4-4a19-874a-e1d408f030e6",
   "metadata": {},
   "outputs": [],
   "source": []
  },
  {
   "cell_type": "markdown",
   "id": "0b715cd3-190e-4ed6-8054-166da3e9b626",
   "metadata": {},
   "source": [
    "* The Hadamard transformation: transform basis from $\\ket{0},\\ket{1}$ to $\\ket{+},\\ket{-}$where\n",
    "$\\ket{\\pm} = (\\ket{0}\\pm\\ket{1})/\\sqrt{2}$\n",
    "* The Hadamard gate: \n",
    "\n",
    "$$\n",
    "H = \\frac{1}{\\sqrt{2}}\n",
    "\\begin{pmatrix}\n",
    "1 &  1 \\\\\n",
    "1 & -1\n",
    "\\end{pmatrix}\n",
    "$$\n",
    "* $ H\\ket{0} = \\ket{+}$\n",
    "* $ H\\ket{1} = \\ket{-}$"
   ]
  },
  {
   "cell_type": "code",
   "execution_count": null,
   "id": "2ace7c24-3a93-4a47-8b0d-33d7bed38a62",
   "metadata": {},
   "outputs": [],
   "source": []
  },
  {
   "cell_type": "code",
   "execution_count": null,
   "id": "98f594ba-250f-4fb2-9033-b42e947cc6bb",
   "metadata": {},
   "outputs": [],
   "source": []
  }
 ],
 "metadata": {
  "kernelspec": {
   "display_name": "Python 3 (ipykernel)",
   "language": "python",
   "name": "python3"
  },
  "language_info": {
   "codemirror_mode": {
    "name": "ipython",
    "version": 3
   },
   "file_extension": ".py",
   "mimetype": "text/x-python",
   "name": "python",
   "nbconvert_exporter": "python",
   "pygments_lexer": "ipython3",
   "version": "3.10.13"
  }
 },
 "nbformat": 4,
 "nbformat_minor": 5
}
